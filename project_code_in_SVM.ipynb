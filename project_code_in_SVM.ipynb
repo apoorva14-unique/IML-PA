{
  "nbformat": 4,
  "nbformat_minor": 0,
  "metadata": {
    "colab": {
      "provenance": [],
      "authorship_tag": "ABX9TyO+MRHsFskX6xsqP3JUO/Gq",
      "include_colab_link": true
    },
    "kernelspec": {
      "name": "python3",
      "display_name": "Python 3"
    },
    "language_info": {
      "name": "python"
    }
  },
  "cells": [
    {
      "cell_type": "markdown",
      "metadata": {
        "id": "view-in-github",
        "colab_type": "text"
      },
      "source": [
        "<a href=\"https://colab.research.google.com/github/apoorva14-unique/IML-PA/blob/main/project_code_in_SVM.ipynb\" target=\"_parent\"><img src=\"https://colab.research.google.com/assets/colab-badge.svg\" alt=\"Open In Colab\"/></a>"
      ]
    },
    {
      "cell_type": "code",
      "source": [
        "import pandas as pd\n",
        "from sklearn.model_selection import train_test_split\n",
        "from sklearn.preprocessing import StandardScaler\n",
        "from sklearn.svm import SVC\n",
        "from sklearn.metrics import accuracy_score\n",
        "import numpy as np # Import numpy for NaN\n",
        "\n",
        "# Load the dataset\n",
        "data = pd.read_csv('complete soil data.csv')  # Replace with your actual dataset path\n",
        "\n",
        "print(\"Dataset loaded successfully\")\n",
        "\n",
        "# Display the first few rows of the dataset\n",
        "print(data.head())\n",
        "\n",
        "# Select features and target variable\n",
        "features = data[['PH', 'EC', 'OC', 'N', 'P2O5', 'K20', 'S', 'CU', 'FC', 'MN', 'ZN', 'BA', 'Temparature', 'Humidity', 'Rainfall']]\n",
        "target = data['CROP']\n",
        "\n",
        "# Convert to numeric and handle NaN values more effectively\n",
        "features = features.apply(pd.to_numeric, errors='coerce')\n",
        "features.fillna(features.mean(), inplace=True)  # Replace NaN values with column means\n",
        "\n",
        "# Ensure target variable aligns\n",
        "target = target.loc[features.index]\n",
        "\n",
        "# Before splitting and scaling, clean the feature columns\n",
        "# Iterate through feature columns and try to convert to numeric\n",
        "for col in features.columns:\n",
        "    # Attempt to convert to numeric, coercing errors to NaN\n",
        "    features[col] = pd.to_numeric(features[col], errors='coerce')\n",
        "\n",
        "# Drop rows where any of the feature columns are NaN after coercion\n",
        "# This removes rows with non-numeric entries that couldn't be converted\n",
        "initial_rows = features.shape[0]\n",
        "features = features.dropna(subset=features.columns)\n",
        "# Align the target variable by index after dropping rows from features\n",
        "target = target.loc[features.index]\n",
        "print(f\"Dropped {initial_rows - features.shape[0]} rows containing non-numeric feature values.\")\n",
        "\n",
        "# Split the dataset into training and testing sets\n",
        "X_train, X_test, y_train, y_test = train_test_split(features, target, test_size=0.2, random_state=42)\n",
        "\n",
        "# Standardize the features\n",
        "scaler = StandardScaler()\n",
        "X_train = scaler.fit_transform(X_train)\n",
        "X_test = scaler.transform(X_test)\n",
        "\n",
        "# Create and train the SVM model\n",
        "svm_model = SVC(kernel='linear')\n",
        "svm_model.fit(X_train, y_train)\n",
        "\n",
        "# Make predictions on the test set\n",
        "y_pred = svm_model.predict(X_test)\n",
        "\n",
        "# Calculate the accuracy of the model\n",
        "accuracy = accuracy_score(y_test, y_pred)\n",
        "print(f'Accuracy: {accuracy * 100:.2f}%')"
      ],
      "metadata": {
        "colab": {
          "base_uri": "https://localhost:8080/"
        },
        "id": "BQFpMVLydYyu",
        "outputId": "c2ff0781-b015-4d90-fe87-db695f007c53"
      },
      "execution_count": 9,
      "outputs": [
        {
          "output_type": "stream",
          "name": "stdout",
          "text": [
            "Dataset loaded successfully\n",
            "   S.NO    MANDAL NAME VILLAGE NAME  SOIL TYPE    PH    EC    OC      N  P2O5  \\\n",
            "0     1  JAMMALAMADUGU   Uppalapadu          1  8.01  0.12  0.23  150.0    14   \n",
            "1     2  JAMMALAMADUGU   Uppalapadu          1  7.96   0.1  0.07  226.0    55   \n",
            "2     3  JAMMALAMADUGU   moragudi-1          2  8.03  0.08  0.20  276.0     8   \n",
            "3     4  JAMMALAMADUGU   moragudi-1          1  8.40  0.06  0.15  213.0    30   \n",
            "4     5  JAMMALAMADUGU   moragudi-2          1  7.99  0.04  0.27  250.0    13   \n",
            "\n",
            "   K20   S     CU     FC     MN     ZN     BA  Temparature  Humidity  \\\n",
            "0  270   7  0.030  16.72  16.69  1.320  0.256        34.59      77.4   \n",
            "1  290   8  2.286  12.21  15.07  1.108   3.84        34.59      77.4   \n",
            "2  574  14  2.566  3.564  15.63  0.990  0.192        34.59      77.4   \n",
            "3  243  20  2.028    2.5  11.33  1.114   0.16        34.59      77.4   \n",
            "4  486  14  1.664  1.498  13.12  0.938  0.512        34.59      77.4   \n",
            "\n",
            "   Rainfall        CROP  \n",
            "0     834.3      cotton  \n",
            "1     834.3      cotton  \n",
            "2     834.3  Black Gram  \n",
            "3     834.3  Black Gram  \n",
            "4     834.3  Black Gram  \n",
            "Dropped 0 rows containing non-numeric feature values.\n",
            "Accuracy: 42.28%\n"
          ]
        }
      ]
    }
  ]
}